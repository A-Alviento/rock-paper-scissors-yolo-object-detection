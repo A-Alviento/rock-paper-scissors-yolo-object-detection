{
 "cells": [
  {
   "cell_type": "code",
   "execution_count": null,
   "metadata": {},
   "outputs": [],
   "source": [
    "# install dependencies\n",
    "%pip install ultralytics"
   ]
  },
  {
   "cell_type": "code",
   "execution_count": null,
   "id": "d2d86116",
   "metadata": {},
   "outputs": [],
   "source": [
    "# note: make sure to install correct version of pytorch\n",
    "# this version is for windows with RTX 3080 ti with cuda = 11.8\n",
    "conda install pytorch torchvision torchaudio pytorch-cuda=11.8 -c pytorch -c nvidia"
   ]
  },
  {
   "cell_type": "code",
   "execution_count": null,
   "id": "15d0cbf5",
   "metadata": {},
   "outputs": [],
   "source": [
    "from ultralytics import YOLO\n",
    "\n",
    "# load model\n",
    "model = YOLO('yolov8n.pt') # load a pretrained model\n",
    "\n",
    "# train model with own dataset\n",
    "model.train(data=\"\\dataset\\data.yaml\", epochs=100, imgsz=640)"
   ]
  }
 ],
 "metadata": {
  "language_info": {
   "name": "python"
  }
 },
 "nbformat": 4,
 "nbformat_minor": 5
}
