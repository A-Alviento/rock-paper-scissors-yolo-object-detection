{
 "cells": [
  {
   "cell_type": "code",
   "execution_count": null,
   "metadata": {},
   "outputs": [],
   "source": [
    "# install dependencies\n",
    "%pip install ultralytics\n",
    "# note: make sure to install correct version of pytorch\n",
    "# this version is for windows with RTX 3080 ti with cuda = 11.8\n",
    "%conda install pytorch torchvision torchaudio pytorch-cuda=11.8 -c pytorch -c nvidia"
   ]
  },
  {
   "attachments": {},
   "cell_type": "markdown",
   "id": "ca2277a6",
   "metadata": {},
   "source": [
    "# Begin"
   ]
  },
  {
   "cell_type": "code",
   "execution_count": null,
   "id": "d2d86116",
   "metadata": {},
   "outputs": [],
   "source": [
    "from ultralytics import YOLO"
   ]
  },
  {
   "attachments": {},
   "cell_type": "markdown",
   "id": "c7cb6e67",
   "metadata": {},
   "source": [
    "# Training"
   ]
  },
  {
   "attachments": {},
   "cell_type": "markdown",
   "id": "9c94103f",
   "metadata": {},
   "source": [
    "Specify the pre-existing YOLO model you intend to train with. Download [here](https://docs.ultralytics.com/models/yolov8/#supported-modes)"
   ]
  },
  {
   "cell_type": "code",
   "execution_count": null,
   "id": "15d0cbf5",
   "metadata": {},
   "outputs": [],
   "source": [
    "# load model\n",
    "model = YOLO('') # specify the YOLO model directory here\n",
    "\n",
    "device = 'cuda' if torch.cuda.is_available() else 'cpu'\n",
    "# train model with own dataset\n",
    "model.train(data='', epochs=100, imgsz=640, device=device) # after you download the dataset, specify the path to the data.yaml file here"
   ]
  },
  {
   "attachments": {},
   "cell_type": "markdown",
   "id": "37f8d46a",
   "metadata": {},
   "source": [
    "# Inference"
   ]
  },
  {
   "cell_type": "code",
   "execution_count": null,
   "id": "c22a466e",
   "metadata": {},
   "outputs": [],
   "source": [
    "# loads the trained model, selecting the best model trained \n",
    "trained_model = YOLO(\"./runs/detect/train/weights/best.pt\") # specify the path to the best.pt file here\n",
    "\n",
    "# predict on source 0 (webcam) with a confidence threshold of 50%\n",
    "model.predict(source=\"0\", show=True, conf=0.5, device=device)"
   ]
  }
 ],
 "metadata": {
  "language_info": {
   "name": "python"
  }
 },
 "nbformat": 4,
 "nbformat_minor": 5
}
